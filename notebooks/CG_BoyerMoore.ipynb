{
  "cells": [
    {
      "cell_type": "markdown",
      "metadata": {
        "id": "kHg1fzpTOFe9"
      },
      "source": [
        "### Preprocessing helper functions"
      ]
    },
    {
      "cell_type": "code",
      "execution_count": 35,
      "metadata": {
        "id": "3feUMTmCOFe_"
      },
      "outputs": [],
      "source": [
        "import string\n",
        "\n",
        "\n",
        "def z_array(s):\n",
        "    \"\"\" Use Z algorithm (Gusfield theorem 1.4.1) to preprocess s \"\"\"\n",
        "    assert len(s) > 1\n",
        "    z = [len(s)] + [0] * (len(s)-1)\n",
        "\n",
        "    # Initial comparison of s[1:] with prefix\n",
        "    for i in range(1, len(s)):\n",
        "        if s[i] == s[i-1]:\n",
        "            z[1] += 1\n",
        "        else:\n",
        "            break\n",
        "    \n",
        "    r, l = 0, 0\n",
        "    if z[1] > 0:\n",
        "        r, l = z[1], 1\n",
        "\n",
        "    for k in range(2, len(s)):\n",
        "        assert z[k] == 0\n",
        "        if k > r:\n",
        "            # Case 1\n",
        "            for i in range(k, len(s)):\n",
        "                if s[i] == s[i-k]:\n",
        "                    z[k] += 1\n",
        "                else:\n",
        "                    break\n",
        "            r, l = k + z[k] - 1, k\n",
        "        else:\n",
        "            # Case 2\n",
        "            # Calculate length of beta\n",
        "            nbeta = r - k + 1\n",
        "            zkp = z[k - l]\n",
        "            if nbeta > zkp:\n",
        "                # Case 2a: zkp wins\n",
        "                z[k] = zkp\n",
        "            else:\n",
        "                # Case 2b: Compare characters just past r\n",
        "                nmatch = 0\n",
        "                for i in range(r+1, len(s)):\n",
        "                    if s[i] == s[i - k]:\n",
        "                        nmatch += 1\n",
        "                    else:\n",
        "                        break\n",
        "                l, r = k, r + nmatch\n",
        "                z[k] = r - k + 1\n",
        "    return z\n",
        "\n",
        "\n",
        "def n_array(s):\n",
        "    \"\"\" Compile the N array (Gusfield theorem 2.2.2) from the Z array \"\"\"\n",
        "    return z_array(s[::-1])[::-1]\n",
        "\n",
        "\n",
        "def big_l_prime_array(p, n):\n",
        "    \"\"\" Compile L' array (Gusfield theorem 2.2.2) using p and N array.\n",
        "        L'[i] = largest index j less than n such that N[j] = |P[i:]| \"\"\"\n",
        "    lp = [0] * len(p)\n",
        "    for j in range(len(p)-1):\n",
        "        i = len(p) - n[j]\n",
        "        if i < len(p):\n",
        "            lp[i] = j + 1\n",
        "    return lp\n",
        "\n",
        "\n",
        "def big_l_array(p, lp):\n",
        "    \"\"\" Compile L array (Gusfield theorem 2.2.2) using p and L' array.\n",
        "        L[i] = largest index j less than n such that N[j] >= |P[i:]| \"\"\"\n",
        "    l = [0] * len(p)\n",
        "    l[1] = lp[1]\n",
        "    for i in range(2, len(p)):\n",
        "        l[i] = max(l[i-1], lp[i])\n",
        "    return l\n",
        "\n",
        "\n",
        "def small_l_prime_array(n):\n",
        "    \"\"\" Compile lp' array (Gusfield theorem 2.2.4) using N array. \"\"\"\n",
        "    small_lp = [0] * len(n)\n",
        "    for i in range(len(n)):\n",
        "        if n[i] == i+1:  # prefix matching a suffix\n",
        "            small_lp[len(n)-i-1] = i+1\n",
        "    for i in range(len(n)-2, -1, -1):  # \"smear\" them out to the left\n",
        "        if small_lp[i] == 0:\n",
        "            small_lp[i] = small_lp[i+1]\n",
        "    return small_lp\n",
        "\n",
        "\n",
        "def good_suffix_table(p):\n",
        "    \"\"\" Return tables needed to apply good suffix rule. \"\"\"\n",
        "    n = n_array(p)\n",
        "    lp = big_l_prime_array(p, n)\n",
        "    return lp, big_l_array(p, lp), small_l_prime_array(n)\n",
        "\n",
        "\n",
        "def good_suffix_mismatch(i, big_l_prime, small_l_prime):\n",
        "    \"\"\" Given a mismatch at offset i, and given L/L' and l' arrays,\n",
        "        return amount to shift as determined by good suffix rule. \"\"\"\n",
        "    length = len(big_l_prime)\n",
        "    assert i < length\n",
        "    if i == length - 1:\n",
        "        return 0\n",
        "    i += 1  # i points to leftmost matching position of P\n",
        "    if big_l_prime[i] > 0:\n",
        "        return length - big_l_prime[i]\n",
        "    return length - small_l_prime[i]\n",
        "\n",
        "\n",
        "def good_suffix_match(small_l_prime):\n",
        "    \"\"\" Given a full match of P to T, return amount to shift as\n",
        "        determined by good suffix rule. \"\"\"\n",
        "    return len(small_l_prime) - small_l_prime[1]\n",
        "\n",
        "\n",
        "def dense_bad_char_tab(p, amap):\n",
        "    \"\"\" Given pattern string and list with ordered alphabet characters, create\n",
        "        and return a dense bad character table.  Table is indexed by offset\n",
        "        then by character. \"\"\"\n",
        "    tab = []\n",
        "    nxt = [0] * len(amap)\n",
        "    for i in range(0, len(p)):\n",
        "        c = p[i]\n",
        "        assert c in amap\n",
        "        tab.append(nxt[:])\n",
        "        nxt[amap[c]] = i+1\n",
        "    return tab"
      ]
    },
    {
      "cell_type": "markdown",
      "metadata": {
        "id": "XWPGi8NDOFfC"
      },
      "source": [
        "### Class for preprocessed pattern"
      ]
    },
    {
      "cell_type": "code",
      "execution_count": 36,
      "metadata": {
        "id": "5CB4NA4wOFfD"
      },
      "outputs": [],
      "source": [
        "class BoyerMoore(object):\n",
        "    \"\"\" Encapsulates pattern and associated Boyer-Moore preprocessing. \"\"\"\n",
        "\n",
        "    def __init__(self, p, alphabet='ACGT'):\n",
        "        # Create map from alphabet characters to integers\n",
        "        self.amap = {alphabet[i]: i for i in range(len(alphabet))}\n",
        "        # Make bad character rule table\n",
        "        self.bad_char = dense_bad_char_tab(p, self.amap)\n",
        "        # Create good suffix rule table\n",
        "        _, self.big_l, self.small_l_prime = good_suffix_table(p)\n",
        "\n",
        "    def bad_character_rule(self, i, c):\n",
        "        \"\"\" Return # skips given by bad character rule at offset i \"\"\"\n",
        "        assert c in self.amap\n",
        "        assert i < len(self.bad_char)\n",
        "        ci = self.amap[c]\n",
        "        return i - (self.bad_char[i][ci]-1)\n",
        "\n",
        "    def good_suffix_rule(self, i):\n",
        "        \"\"\" Given a mismatch at offset i, return amount to shift\n",
        "            as determined by (weak) good suffix rule. \"\"\"\n",
        "        length = len(self.big_l)\n",
        "        assert i < length\n",
        "        if i == length - 1:\n",
        "            return 0\n",
        "        i += 1  # i points to leftmost matching position of P\n",
        "        if self.big_l[i] > 0:\n",
        "            return length - self.big_l[i]\n",
        "        return length - self.small_l_prime[i]\n",
        "\n",
        "    def match_skip(self):\n",
        "        \"\"\" Return amount to shift in case where P matches T \"\"\"\n",
        "        return len(self.small_l_prime) - self.small_l_prime[1]"
      ]
    },
    {
      "cell_type": "markdown",
      "metadata": {
        "id": "9odgGHwXOFfE"
      },
      "source": [
        "### Matching function"
      ]
    },
    {
      "cell_type": "code",
      "execution_count": 37,
      "metadata": {
        "id": "erYsNyeuOFfE"
      },
      "outputs": [],
      "source": [
        "def boyer_moore(p, p_bm, t):\n",
        "    \"\"\" Do Boyer-Moore matching \"\"\"\n",
        "    i = 0\n",
        "    occurrences = []\n",
        "    while i < len(t) - len(p) + 1:\n",
        "        shift = 1\n",
        "        mismatched = False\n",
        "        for j in range(len(p)-1, -1, -1):\n",
        "            if p[j] != t[i+j]:\n",
        "                skip_bc = p_bm.bad_character_rule(j, t[i+j])\n",
        "                skip_gs = p_bm.good_suffix_rule(j)\n",
        "                shift = max(shift, skip_bc, skip_gs)\n",
        "                mismatched = True\n",
        "                break\n",
        "        if not mismatched:\n",
        "            occurrences.append(i)\n",
        "            skip_gs = p_bm.match_skip()\n",
        "            shift = max(shift, skip_gs)\n",
        "        i += shift\n",
        "    return occurrences"
      ]
    },
    {
      "cell_type": "code",
      "execution_count": 38,
      "metadata": {
        "id": "TqYFfiFAOFfE"
      },
      "outputs": [],
      "source": [
        "t = 'In the year 1878 I took my degree of Doctor of Medicine of the University of London, and proceeded to Netley' # \"text\" - thing we search in\n",
        "p = 'of' # \"pattern\" - thing we search for"
      ]
    },
    {
      "cell_type": "code",
      "execution_count": 39,
      "metadata": {
        "id": "z5cTqtPOOFfF"
      },
      "outputs": [],
      "source": [
        "p_bm = BoyerMoore(p, alphabet='abcdefghijklmnopqrstuvwxyzABCDEFGHIJKLMNOPQRSTUVWXYZ,.-?()!1234567890 ')"
      ]
    },
    {
      "cell_type": "code",
      "execution_count": 40,
      "metadata": {
        "colab": {
          "base_uri": "https://localhost:8080/"
        },
        "id": "Li-82dFCOFfF",
        "outputId": "187effa9-b402-4568-9228-57d4b1e6542c"
      },
      "outputs": [
        {
          "output_type": "execute_result",
          "data": {
            "text/plain": [
              "[34, 44, 56, 74]"
            ]
          },
          "metadata": {},
          "execution_count": 40
        }
      ],
      "source": [
        "boyer_moore(p, p_bm,t)"
      ]
    },
    {
      "cell_type": "code",
      "execution_count": 41,
      "metadata": {
        "colab": {
          "base_uri": "https://localhost:8080/",
          "height": 35
        },
        "id": "srqz9TANOFfG",
        "outputId": "7ad35a62-86c3-4c72-c975-30e0395c1796"
      },
      "outputs": [
        {
          "output_type": "execute_result",
          "data": {
            "text/plain": [
              "'of'"
            ],
            "application/vnd.google.colaboratory.intrinsic+json": {
              "type": "string"
            }
          },
          "metadata": {},
          "execution_count": 41
        }
      ],
      "source": [
        "t[44:44+len(p)]  # confirm it really occurs"
      ]
    },
    {
      "cell_type": "code",
      "execution_count": 42,
      "metadata": {
        "colab": {
          "base_uri": "https://localhost:8080/"
        },
        "id": "5jAUnhNIOFfH",
        "outputId": "b4611051-348c-499a-c37e-bacc61b7e767"
      },
      "outputs": [
        {
          "output_type": "execute_result",
          "data": {
            "text/plain": [
              "[20]"
            ]
          },
          "metadata": {},
          "execution_count": 42
        }
      ],
      "source": [
        "boyer_moore(p, p_bm, 'University Nacional of Costa Rica,')"
      ]
    },
    {
      "cell_type": "code",
      "execution_count": 43,
      "metadata": {
        "colab": {
          "base_uri": "https://localhost:8080/",
          "height": 35
        },
        "id": "EUwD3IGsOFfH",
        "outputId": "efe3fc54-c6ac-47a0-e989-33f7ee0a5b47"
      },
      "outputs": [
        {
          "output_type": "execute_result",
          "data": {
            "text/plain": [
              "'In the year 1878 I took my degree of Doctor of Medicine of the University of London, and proceeded to Netley'"
            ],
            "application/vnd.google.colaboratory.intrinsic+json": {
              "type": "string"
            }
          },
          "metadata": {},
          "execution_count": 43
        }
      ],
      "source": [
        "t"
      ]
    },
    {
      "cell_type": "code",
      "source": [
        "def kmp(P, T):\n",
        "    # Compute the start position (number of chars) of the longest suffix that matches a prefix,\n",
        "    # and store them into list K, the first element of K is set to be -1, the second\n",
        "    #\n",
        "    occurrences = []\n",
        "    K = []  # K[t] store the value that when mismatch happens at t, should move Pattern P K[t] characters ahead\n",
        "    t = -1  # K's length is len(P) + 1, the first element is set to be -1, corresponding to no elements in P.\n",
        "    K.append(t)  # Add the first element, keep t = -1.\n",
        "    for k in range(1, len(P) + 1):\n",
        "        # traverse all the elemtn in P, calculate the corresponding value for each element.\n",
        "        while(t >= 0 and P[t] != P[k - 1]):  # if t=-1, then let t = 0, if t>=0 and current suffix doesn't match, then try a shorter suffix\n",
        "            t = K[t]\n",
        "        t = t + 1  # If it matches, then the matching position should be one character ahead.\n",
        "        K.append(t)  # record the matching postion for k\n",
        "    #print(K)\n",
        "\n",
        "    # Match the String T with P\n",
        "    m = 0  # Record the current matching position in P when compared with T\n",
        "    for i in range(0, len(T)):  # traverse T one-by-one\n",
        "        while (m >= 0 and P[m] != T[i]):  # if mismatch happens at position m, move P forward with K[m] characters and restart comparison\n",
        "            m = K[m]\n",
        "        m = m + 1  # if position m matches, move P forward to next position\n",
        "        if m == len(P):  # if m is already the end of K (or P), the a fully match is found. Continue comparison by move P forward K[m] characters\n",
        "            occurrences.append(i - m + 1)\n",
        "            m = K[m]\n",
        "    print(occurrences)"
      ],
      "metadata": {
        "id": "YhV6Qn_yXecq"
      },
      "execution_count": 44,
      "outputs": []
    },
    {
      "cell_type": "code",
      "execution_count": 46,
      "metadata": {
        "id": "nKsXE_GQSn33"
      },
      "outputs": [],
      "source": [
        "t = 'In the year 1878 I took my degree of Doctor of Medicine of the University of London, and proceeded to Netley' # \"text\" - thing we search in\n",
        "p = 'of' # \"pattern\" - thing we search for"
      ]
    },
    {
      "cell_type": "code",
      "source": [
        "if __name__ == \"__main__\":\n",
        "    kmp(p, t)\n",
        "    kmp('abab', 'ababcabababc')"
      ],
      "metadata": {
        "colab": {
          "base_uri": "https://localhost:8080/"
        },
        "id": "aSAhcVwjYZRU",
        "outputId": "ed883feb-f2ea-4c24-faa4-6567f0489ac8"
      },
      "execution_count": 49,
      "outputs": [
        {
          "output_type": "stream",
          "name": "stdout",
          "text": [
            "[34, 44, 56, 74]\n",
            "[0, 5, 7]\n"
          ]
        }
      ]
    }
  ],
  "metadata": {
    "kernelspec": {
      "display_name": "Python 3",
      "language": "python",
      "name": "python3"
    },
    "language_info": {
      "codemirror_mode": {
        "name": "ipython",
        "version": 3
      },
      "file_extension": ".py",
      "mimetype": "text/x-python",
      "name": "python",
      "nbconvert_exporter": "python",
      "pygments_lexer": "ipython3",
      "version": "3.6.2"
    },
    "colab": {
      "name": "CG_BoyerMoore.ipynb",
      "provenance": []
    }
  },
  "nbformat": 4,
  "nbformat_minor": 0
}
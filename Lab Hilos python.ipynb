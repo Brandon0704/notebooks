{
  "cells": [
    {
      "cell_type": "markdown",
      "metadata": {
        "id": "view-in-github",
        "colab_type": "text"
      },
      "source": [
        "<a href=\"https://colab.research.google.com/github/Brandon0704/notebooks/blob/main/Lab%20Hilos%20python.ipynb\" target=\"_parent\"><img src=\"https://colab.research.google.com/assets/colab-badge.svg\" alt=\"Open In Colab\"/></a>"
      ]
    },
    {
      "cell_type": "code",
      "source": [
        "import threading\n",
        "import random\n",
        "import time"
      ],
      "metadata": {
        "id": "4HODo0N1e9rZ"
      },
      "execution_count": 7,
      "outputs": []
    },
    {
      "cell_type": "code",
      "source": [
        "def ordena_subvector(subvector, hilo):\n",
        "    tiempo_inicio = time.time()\n",
        "    subvector.sort()\n",
        "    print(subvector)\n",
        "    tiempo_fin = time.time()\n",
        "    tiempo_ejecucion= tiempo_fin - tiempo_inicio\n",
        "    print(f\"Hilo {hilo}: Subvector ordenado (Tiempo: {tiempo_ejecucion} segundos)\")"
      ],
      "metadata": {
        "id": "Y1ejAyjBk5Yj"
      },
      "execution_count": 68,
      "outputs": []
    },
    {
      "cell_type": "code",
      "source": [
        "def dividir_vector(vector, num_hilos):\n",
        "    longitud_subvector = len(vector) //num_hilos\n",
        "    subvectores = [vector[i:i+longitud_subvector] for i in range(0, len(vector),longitud_subvector)]\n",
        "    return subvectores"
      ],
      "metadata": {
        "id": "cEz2HGvHk-3T"
      },
      "execution_count": 52,
      "outputs": []
    },
    {
      "cell_type": "code",
      "source": [
        "def unir_vectores(subvectores):\n",
        "    vector_ordenado = [num for subvector in subvectores for num in subvector]\n",
        "    return vector_ordenado"
      ],
      "metadata": {
        "id": "Yr1KFGF2lBb7"
      },
      "execution_count": 53,
      "outputs": []
    },
    {
      "cell_type": "code",
      "source": [
        "def ordenar_vector(vector, num_hilos):\n",
        "    subvectores = dividir_vector(vector, num_hilos)\n",
        "    threads = []\n",
        "\n",
        "    for i, subvector in enumerate(subvectores):\n",
        "        thread = threading.Thread(target=ordena_subvector, args=(subvector, i))\n",
        "        thread.start()\n",
        "        threads.append(thread)\n",
        "    for thread in threads:\n",
        "        thread.join()\n",
        "    vector_ordenado = unir_vectores(subvectores)\n",
        "    vector_ordenado.sort()\n",
        "    print(f\"Vector ordenado final: {vector_ordenado}\")"
      ],
      "metadata": {
        "id": "SMJggYJZlDUL"
      },
      "execution_count": 73,
      "outputs": []
    },
    {
      "cell_type": "code",
      "source": [
        "\n",
        "vector_grande = [random.randint(1, 100) for _ in range(100)]\n",
        "\n",
        "num_hilos = int(input(\"Ingrese la cantidad de hilos: \"))\n",
        "tiempo_inicio = time.time()\n",
        "ordenar_vector(vector=vector_grande, num_hilos=num_hilos)\n",
        "tiempo_fin = time.time()\n",
        "tiempo_ejecucion= tiempo_fin - tiempo_inicio\n",
        "print(f\"Tiempo de total: {tiempo_ejecucion} segundos\")"
      ],
      "metadata": {
        "id": "miW0DnvEoREl",
        "outputId": "90837417-2311-41a1-e730-486efaa3728a",
        "colab": {
          "base_uri": "https://localhost:8080/"
        }
      },
      "execution_count": 94,
      "outputs": [
        {
          "output_type": "stream",
          "name": "stdout",
          "text": [
            "Ingrese la cantidad de hilos: 2\n",
            "[1, 7, 16, 23, 25, 26, 27, 30, 30, 31, 34, 35, 37, 40, 45, 46, 47, 49, 50, 50, 52, 53, 53, 54, 57, 57, 61, 61, 61, 63, 65, 68, 69, 69, 70, 71, 74, 76, 77, 79, 80, 82, 82, 85, 90, 90, 93, 95, 97, 100][4, 4, 5, 6, 6, 7, 8, 10, 11, 12, 12, 13, 21, 25, 27, 28, 29, 30, 30, 33, 34, 38, 41, 43, 45, 48, 50, 50, 52, 53, 54, 57, 60, 61, 63, 64, 64, 64, 66, 70, 71, 74, 77, 81, 88, 89, 92, 93, 97, 100]\n",
            "Hilo 0: Subvector ordenado (Tiempo: 0.0013780593872070312 segundos)\n",
            "\n",
            "Hilo 1: Subvector ordenado (Tiempo: 0.0005688667297363281 segundos)\n",
            "Vector ordenado final: [1, 4, 4, 5, 6, 6, 7, 7, 8, 10, 11, 12, 12, 13, 16, 21, 23, 25, 25, 26, 27, 27, 28, 29, 30, 30, 30, 30, 31, 33, 34, 34, 35, 37, 38, 40, 41, 43, 45, 45, 46, 47, 48, 49, 50, 50, 50, 50, 52, 52, 53, 53, 53, 54, 54, 57, 57, 57, 60, 61, 61, 61, 61, 63, 63, 64, 64, 64, 65, 66, 68, 69, 69, 70, 70, 71, 71, 74, 74, 76, 77, 77, 79, 80, 81, 82, 82, 85, 88, 89, 90, 90, 92, 93, 93, 95, 97, 97, 100, 100]\n",
            "Tiempo de total: 0.005455970764160156 segundos\n"
          ]
        }
      ]
    }
  ],
  "metadata": {
    "colab": {
      "name": "Te damos la bienvenida a Colaboratory",
      "toc_visible": true,
      "provenance": [],
      "include_colab_link": true
    },
    "kernelspec": {
      "display_name": "Python 3",
      "name": "python3"
    }
  },
  "nbformat": 4,
  "nbformat_minor": 0
}